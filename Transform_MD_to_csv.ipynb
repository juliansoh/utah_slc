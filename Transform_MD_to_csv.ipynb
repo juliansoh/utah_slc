{
 "cells": [
  {
   "cell_type": "code",
   "execution_count": 44,
   "metadata": {},
   "outputs": [
    {
     "name": "stdout",
     "output_type": "stream",
     "text": [
      "Data has been written to output.csv\n"
     ]
    }
   ],
   "source": [
    "import os\n",
    "import re\n",
    "import pandas as pd\n",
    "\n",
    "# Directory containing the Markdown files\n",
    "#md_directory = 'C:/Users/julianso/Documents/Dev/Extract_html_screen_scraping/dmv/dmv'\n",
    "md_directory = 'C:/Users/julianso/Documents/Dev/Extract_html_screen_scraping/data'\n",
    "\n",
    "# List to store the data\n",
    "data = []\n",
    "\n",
    "# Loop through each file in the directory\n",
    "#for filename in os.listdir(md_directory):\n",
    "#    if filename.endswith('.md'):\n",
    "#        with open(os.path.join(md_directory, filename), 'r', encoding='utf-8') as file:\n",
    "#            content = file.read()\n",
    "#            # Extract the question, answer, confidence, and citations\n",
    "#            question = content.split('## Question:')[1].split('## Answer:')[0].strip()\n",
    "#            answer = content.split('## Answer:')[1].split('## Confidence:')[0].strip()\n",
    "#            confidence = content.split('## Confidence:')[1].split('## Citations:')[0].strip()\n",
    "#            citations = content.split('## Citations:')[1].strip()\n",
    "#            # Concatenate answer and citations\n",
    "#            full_answer = f\"{answer}\\n\\nReferences:\\n{citations}\"\n",
    "#            data.append({'Question': question, 'Answer': full_answer, 'Confidence': confidence})\n",
    "\n",
    "# Loop through each file in the directory\n",
    "for filename in os.listdir(md_directory):\n",
    "    if filename.endswith('.md'):\n",
    "        with open(os.path.join(md_directory, filename), 'r', encoding='utf-8',errors='replace') as file:\n",
    "            content = file.read()\n",
    "\n",
    "             # Initialize variables\n",
    "            question = answer = confidence = citations = \"\"\n",
    "\n",
    "            # Extract the question, answer, confidence, and citations\n",
    "            if '## Question:' in content:\n",
    "                question = content.split('## Question:')[1].split('## Answer:')[0].strip()\n",
    "\n",
    "            if '## Answer:' in content:\n",
    "                answer = content.split('## Answer:')[1].split('## Confidence:')[0].strip()\n",
    "\n",
    "            if '## Confidence:' in content:\n",
    "                confidence = content.split('## Confidence:')[1].split('## Citations:')[0].strip()\n",
    "\n",
    "            if '## Citations:' in content:\n",
    "                citations = content.split('## Citations:')[1].strip()\n",
    "\n",
    "            # Remove [doc*] patterns from citations, question, confidence and answer, and also remove hypens from citations\n",
    "            citations = re.sub(r'\\[doc\\d+\\]', '', citations).strip()\n",
    "            #citations = re.sub(r'\\[doc\\d+\\]', '', citations).replace('- ', '').strip()\n",
    "            question = re.sub(r'\\[doc\\d+\\]', '', question).strip()\n",
    "            answer = re.sub(r'\\[doc\\d+\\]', '', answer).strip()\n",
    "            confidence = re.sub(r'\\[doc\\d+\\]', '', confidence).strip()\n",
    "            \n",
    "            # Concatenate answer and citations\n",
    "            full_answer = f\"{answer}\\n\\nReferences:\\n{citations}\"\n",
    "            # Convert URLs in citations to clickable hyperlinks\n",
    "            #full_answer = re.sub(r'(https?://\\S+)', r'=HYPERLINK(\"\\1\", \"\\1\")', full_answer)\n",
    "\n",
    "            data.append({'Question': question, 'Answer': full_answer, 'Confidence': confidence})\n",
    "\n",
    "# Create a DataFrame\n",
    "df = pd.DataFrame(data)\n",
    "#df\n",
    "\n",
    "# Write the DataFrame to a CSV file\n",
    "csv_file = 'output.csv'\n",
    "df.to_csv(csv_file, index=False, encoding='utf-8')\n",
    "\n",
    "print(f'Data has been written to {csv_file}')"
   ]
  }
 ],
 "metadata": {
  "kernelspec": {
   "display_name": "Python 3",
   "language": "python",
   "name": "python3"
  },
  "language_info": {
   "codemirror_mode": {
    "name": "ipython",
    "version": 3
   },
   "file_extension": ".py",
   "mimetype": "text/x-python",
   "name": "python",
   "nbconvert_exporter": "python",
   "pygments_lexer": "ipython3",
   "version": "3.12.6"
  }
 },
 "nbformat": 4,
 "nbformat_minor": 2
}
