{
 "cells": [
  {
   "cell_type": "code",
   "execution_count": 2,
   "metadata": {
    "dotnet_interactive": {
     "language": "csharp"
    },
    "polyglot_notebook": {
     "kernelName": "csharp"
    }
   },
   "outputs": [
    {
     "data": {
      "text/plain": [
       "[\"zLm5ldC91dGFoZG12L2h0bWwvaW5zcGVjdGlvbi1yZXF1aXJlbWVudHMuaHRtbA2', 'title': 'inspection-requirements.html\",\n",
       " \"', 'url': 'https://stadventureworksdev001.blob.core.windows.net/utahdmv/html/inspection-requirements.html\",\n",
       " \"ob.core.windows.net/utahdmv/html/inspection-requirements.html', 'filepath': 'inspection-requirements.html\",\n",
       " \"2MDAxLmJsb2IuY29yZS53aW5kb3dzLm5ldC91dGFoZG12L2h0bWwvaW5zcGVjdGlvbnMuaHRtbA2', 'title': 'inspections.html\",\n",
       " \"ections.html', 'url': 'https://stadventureworksdev001.blob.core.windows.net/utahdmv/html/inspections.html\",\n",
       " \"tadventureworksdev001.blob.core.windows.net/utahdmv/html/inspections.html', 'filepath': 'inspections.html\",\n",
       " \"2MDAxLmJsb2IuY29yZS53aW5kb3dzLm5ldC91dGFoZG12L2h0bWwvaW5zcGVjdGlvbnMuaHRtbA2', 'title': 'inspections.html\",\n",
       " \"ections.html', 'url': 'https://stadventureworksdev001.blob.core.windows.net/utahdmv/html/inspections.html\",\n",
       " \"tadventureworksdev001.blob.core.windows.net/utahdmv/html/inspections.html', 'filepath': 'inspections.html\",\n",
       " 'mpleted at any On the Spot Renewal Station, please visit https://secure.utah.gov/rex/help/stationMap.html',\n",
       " \"2MDAxLmJsb2IuY29yZS53aW5kb3dzLm5ldC91dGFoZG12L2h0bWwvaW5zcGVjdGlvbnMuaHRtbA2', 'title': 'inspections.html\",\n",
       " \"ections.html', 'url': 'https://stadventureworksdev001.blob.core.windows.net/utahdmv/html/inspections.html\",\n",
       " \"tadventureworksdev001.blob.core.windows.net/utahdmv/html/inspections.html', 'filepath': 'inspections.html\",\n",
       " \"tzZGV2MDAxLmJsb2IuY29yZS53aW5kb3dzLm5ldC91dGFoZG12L2h0bWwvc2NoZWR1bGVyLmh0bWw1', 'title': 'scheduler.html\",\n",
       " \"scheduler.html', 'url': 'https://stadventureworksdev001.blob.core.windows.net/utahdmv/html/scheduler.html\",\n",
       " \"://stadventureworksdev001.blob.core.windows.net/utahdmv/html/scheduler.html', 'filepath': 'scheduler.html\"]"
      ]
     },
     "execution_count": 2,
     "metadata": {},
     "output_type": "execute_result"
    }
   ],
   "source": [
    "# Define an array\n",
    "filepaths = [\"zLm5ldC91dGFoZG12L2h0bWwvaW5zcGVjdGlvbi1yZXF1aXJlbWVudHMuaHRtbA2', 'title': 'inspection-requirements.html\", \"', 'url': 'https://stadventureworksdev001.blob.core.windows.net/utahdmv/html/inspection-requirements.html\", \"ob.core.windows.net/utahdmv/html/inspection-requirements.html', 'filepath': 'inspection-requirements.html\", \"2MDAxLmJsb2IuY29yZS53aW5kb3dzLm5ldC91dGFoZG12L2h0bWwvaW5zcGVjdGlvbnMuaHRtbA2', 'title': 'inspections.html\", \"ections.html', 'url': 'https://stadventureworksdev001.blob.core.windows.net/utahdmv/html/inspections.html\", \"tadventureworksdev001.blob.core.windows.net/utahdmv/html/inspections.html', 'filepath': 'inspections.html\", \"2MDAxLmJsb2IuY29yZS53aW5kb3dzLm5ldC91dGFoZG12L2h0bWwvaW5zcGVjdGlvbnMuaHRtbA2', 'title': 'inspections.html\", \"ections.html', 'url': 'https://stadventureworksdev001.blob.core.windows.net/utahdmv/html/inspections.html\", \"tadventureworksdev001.blob.core.windows.net/utahdmv/html/inspections.html', 'filepath': 'inspections.html\", 'mpleted at any On the Spot Renewal Station, please visit https://secure.utah.gov/rex/help/stationMap.html', \"2MDAxLmJsb2IuY29yZS53aW5kb3dzLm5ldC91dGFoZG12L2h0bWwvaW5zcGVjdGlvbnMuaHRtbA2', 'title': 'inspections.html\", \"ections.html', 'url': 'https://stadventureworksdev001.blob.core.windows.net/utahdmv/html/inspections.html\", \"tadventureworksdev001.blob.core.windows.net/utahdmv/html/inspections.html', 'filepath': 'inspections.html\", \"tzZGV2MDAxLmJsb2IuY29yZS53aW5kb3dzLm5ldC91dGFoZG12L2h0bWwvc2NoZWR1bGVyLmh0bWw1', 'title': 'scheduler.html\", \"scheduler.html', 'url': 'https://stadventureworksdev001.blob.core.windows.net/utahdmv/html/scheduler.html\", \"://stadventureworksdev001.blob.core.windows.net/utahdmv/html/scheduler.html', 'filepath': 'scheduler.html\"]\n",
    "filepaths"
   ]
  },
  {
   "cell_type": "code",
   "execution_count": 7,
   "metadata": {},
   "outputs": [
    {
     "data": {
      "text/plain": [
       "['https://stadventureworksdev001.blob.core.windows.net/utahdmv/html/inspection-requirements.html',\n",
       " 'https://stadventureworksdev001.blob.core.windows.net/utahdmv/html/inspections.html',\n",
       " 'https://stadventureworksdev001.blob.core.windows.net/utahdmv/html/inspections.html',\n",
       " 'https://secure.utah.gov/rex/help/stationMap.html',\n",
       " 'https://stadventureworksdev001.blob.core.windows.net/utahdmv/html/inspections.html',\n",
       " 'https://stadventureworksdev001.blob.core.windows.net/utahdmv/html/scheduler.html']"
      ]
     },
     "execution_count": 7,
     "metadata": {},
     "output_type": "execute_result"
    }
   ],
   "source": [
    "#extract FQDNs with html filenames from filepaths\n",
    "import re\n",
    "fqdns = []\n",
    "for path in filepaths:\n",
    "    fqdn = re.search(r'(https://.*?/)(.*\\.html)', path)\n",
    "    if fqdn:\n",
    "        fqdns.append(fqdn.group(1) + fqdn.group(2))\n",
    "\n",
    "fqdns\n",
    "\n"
   ]
  },
  {
   "cell_type": "code",
   "execution_count": 8,
   "metadata": {},
   "outputs": [
    {
     "data": {
      "text/plain": [
       "['https://stadventureworksdev001.blob.core.windows.net/utahdmv/html/inspections.html',\n",
       " 'https://stadventureworksdev001.blob.core.windows.net/utahdmv/html/inspection-requirements.html',\n",
       " 'https://stadventureworksdev001.blob.core.windows.net/utahdmv/html/scheduler.html',\n",
       " 'https://secure.utah.gov/rex/help/stationMap.html']"
      ]
     },
     "execution_count": 8,
     "metadata": {},
     "output_type": "execute_result"
    }
   ],
   "source": [
    "#extract only unique entries in fqdns\n",
    "unique_fqdns = list(set(fqdns))\n",
    "unique_fqdns\n",
    "\n",
    "\n"
   ]
  },
  {
   "cell_type": "code",
   "execution_count": 9,
   "metadata": {},
   "outputs": [
    {
     "data": {
      "text/plain": [
       "['inspections.html',\n",
       " 'inspection-requirements.html',\n",
       " 'scheduler.html',\n",
       " 'stationMap.html']"
      ]
     },
     "execution_count": 9,
     "metadata": {},
     "output_type": "execute_result"
    }
   ],
   "source": [
    "#grab html filename from unique_fqdns\n",
    "html_filenames = []\n",
    "for fqdn in unique_fqdns:\n",
    "    html_filenames.append(re.search(r'[^/]+$', fqdn).group(0))\n",
    "\n",
    "html_filenames\n"
   ]
  }
 ],
 "metadata": {
  "kernelspec": {
   "display_name": "Python 3",
   "language": "python",
   "name": "python3"
  },
  "language_info": {
   "codemirror_mode": {
    "name": "ipython",
    "version": 3
   },
   "file_extension": ".py",
   "mimetype": "text/x-python",
   "name": "python",
   "nbconvert_exporter": "python",
   "pygments_lexer": "ipython3",
   "version": "3.12.6"
  },
  "polyglot_notebook": {
   "kernelInfo": {
    "defaultKernelName": "csharp",
    "items": [
     {
      "aliases": [],
      "name": "csharp"
     }
    ]
   }
  }
 },
 "nbformat": 4,
 "nbformat_minor": 2
}
